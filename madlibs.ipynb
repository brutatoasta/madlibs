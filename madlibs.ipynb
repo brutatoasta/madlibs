{
 "cells": [
  {
   "attachments": {},
   "cell_type": "markdown",
   "metadata": {},
   "source": [
    "given a (multiline) f-string, match the substitutes to the targets. If the targets have no subs, put an empty string (default value)"
   ]
  },
  {
   "cell_type": "code",
   "execution_count": 7,
   "metadata": {},
   "outputs": [],
   "source": [
    "# Attempt one\n",
    "def g(inp:str, **subs) -> str:\n",
    "    return inp.format(**subs)"
   ]
  },
  {
   "cell_type": "code",
   "execution_count": 8,
   "metadata": {},
   "outputs": [
    {
     "ename": "KeyError",
     "evalue": "'w'",
     "output_type": "error",
     "traceback": [
      "\u001b[1;31m---------------------------------------------------------------------------\u001b[0m",
      "\u001b[1;31mKeyError\u001b[0m                                  Traceback (most recent call last)",
      "Cell \u001b[1;32mIn[8], line 6\u001b[0m\n\u001b[0;32m      2\u001b[0m \u001b[39m# replacements = {\"x\":70, \"w\":80, \"z\": 90}\u001b[39;00m\n\u001b[0;32m      3\u001b[0m \u001b[39m# replacements = {\"x\":70, \"w\":80, }\u001b[39;00m\n\u001b[0;32m      5\u001b[0m sample \u001b[39m=\u001b[39m \u001b[39m\"\u001b[39m\u001b[39mThe number is \u001b[39m\u001b[39m{x}\u001b[39;00m\u001b[39m \u001b[39m\u001b[39m{w}\u001b[39;00m\u001b[39m \u001b[39m\u001b[39m{z}\u001b[39;00m\u001b[39m\"\u001b[39m\n\u001b[1;32m----> 6\u001b[0m test \u001b[39m=\u001b[39m g(sample, \u001b[39m*\u001b[39m\u001b[39m*\u001b[39mreplacements)\n\u001b[0;32m      7\u001b[0m \u001b[39mprint\u001b[39m(test)\n",
      "Cell \u001b[1;32mIn[7], line 3\u001b[0m, in \u001b[0;36mg\u001b[1;34m(inp, **subs)\u001b[0m\n\u001b[0;32m      2\u001b[0m \u001b[39mdef\u001b[39;00m \u001b[39mg\u001b[39m(inp:\u001b[39mstr\u001b[39m, \u001b[39m*\u001b[39m\u001b[39m*\u001b[39msubs) \u001b[39m-\u001b[39m\u001b[39m>\u001b[39m \u001b[39mstr\u001b[39m:\n\u001b[1;32m----> 3\u001b[0m     \u001b[39mreturn\u001b[39;00m inp\u001b[39m.\u001b[39mformat(\u001b[39m*\u001b[39m\u001b[39m*\u001b[39msubs)\n",
      "\u001b[1;31mKeyError\u001b[0m: 'w'"
     ]
    }
   ],
   "source": [
    "replacements = {\"x\":70}\n",
    "# replacements = {\"x\":70, \"w\":80, \"z\": 90}\n",
    "# replacements = {\"x\":70, \"w\":80, }\n",
    "\n",
    "sample = \"The number is {x} {w} {z}\"\n",
    "test = g(sample, **replacements)\n",
    "print(test)"
   ]
  },
  {
   "attachments": {},
   "cell_type": "markdown",
   "metadata": {},
   "source": [
    "Problem: if the dict doesnt contain it, theres a keyerror"
   ]
  },
  {
   "cell_type": "code",
   "execution_count": 9,
   "metadata": {},
   "outputs": [],
   "source": [
    "# Attempt 2: use a custom formatter (PEP 3101)\n",
    "from string import Formatter\n",
    "from typing import Dict\n",
    "class MadLibber(Formatter):\n",
    "    def __init__(self, default=\"\") -> None:\n",
    "        super().__init__()\n",
    "        self.default=default\n",
    "\n",
    "    def get_value(self, key, args, kwds:Dict):\n",
    "        if isinstance(key, str):\n",
    "            return kwds.get(key, self.default)\n",
    "        else:\n",
    "            return super().get_value(key, args, kwds)\n"
   ]
  },
  {
   "cell_type": "code",
   "execution_count": 10,
   "metadata": {},
   "outputs": [
    {
     "name": "stdout",
     "output_type": "stream",
     "text": [
      "The number is 70  \n"
     ]
    }
   ],
   "source": [
    "mL = MadLibber()\n",
    "print(mL.format(sample, **replacements))"
   ]
  },
  {
   "attachments": {},
   "cell_type": "markdown",
   "metadata": {},
   "source": [
    "Hopefully we can improve on its inelegance. Also I dont fully understand the formatter class."
   ]
  },
  {
   "cell_type": "code",
   "execution_count": 17,
   "metadata": {},
   "outputs": [],
   "source": [
    "# Attempt 3: format_map\n",
    "class Default(dict):\n",
    "    def __missing__(self, key):\n",
    "        return '{'+key+'}'\n",
    "class Default2(dict):\n",
    "    def __missing__(self, key):\n",
    "        return \"\""
   ]
  },
  {
   "cell_type": "code",
   "execution_count": 18,
   "metadata": {},
   "outputs": [
    {
     "name": "stdout",
     "output_type": "stream",
     "text": [
      "The number is 70 {w} {z}\n",
      "The number is 70  \n"
     ]
    }
   ],
   "source": [
    "print(sample.format_map(Default(replacements)))\n",
    "print(sample.format_map(Default2(replacements)))"
   ]
  },
  {
   "cell_type": "code",
   "execution_count": 19,
   "metadata": {},
   "outputs": [
    {
     "name": "stdout",
     "output_type": "stream",
     "text": [
      "\n",
      "Lorem Ipsum is interestingly dummy text of the printing \n",
      "and typesetting industry. Lorem Ipsum has been the \n",
      "industry's standard dummy text ever since the 1500s, \n",
      "when an unknown printer took a human of type and \n",
      "scrambled it to make a type specimen book. It has \n",
      "survived not only five centuries, but also the \n",
      "leap at electronic typesetting, remaining \n",
      "essentially unchanged. It was {verb} in the \n",
      "1960s with the release of Letraset sheets containing \n",
      "Lorem Ipsum passages, and more recently with \n",
      "desktop publishing software like Aldus PageMaker \n",
      "including versions of Lorem Ipsum.\n",
      "\n",
      "\n",
      "Lorem Ipsum is interestingly dummy text of the printing \n",
      "and typesetting industry. Lorem Ipsum has been the \n",
      "industry's standard dummy text ever since the 1500s, \n",
      "when an unknown printer took a human of type and \n",
      "scrambled it to make a type specimen book. It has \n",
      "survived not only five centuries, but also the \n",
      "leap at electronic typesetting, remaining \n",
      "essentially unchanged. It was  in the \n",
      "1960s with the release of Letraset sheets containing \n",
      "Lorem Ipsum passages, and more recently with \n",
      "desktop publishing software like Aldus PageMaker \n",
      "including versions of Lorem Ipsum.\n",
      "\n"
     ]
    }
   ],
   "source": [
    "multiline =\"\"\"\n",
    "Lorem Ipsum is {adj} dummy text of the printing \n",
    "and typesetting industry. Lorem Ipsum has been the \n",
    "industry's standard dummy text ever since the 1500s, \n",
    "when an unknown printer took a {noun} of type and \n",
    "scrambled it to make a type specimen book. It has \n",
    "survived not only five centuries, but also the \n",
    "leap {preposition} electronic typesetting, remaining \n",
    "essentially unchanged. It was {verb} in the \n",
    "1960s with the release of Letraset sheets containing \n",
    "Lorem Ipsum passages, and more recently with \n",
    "desktop publishing software like Aldus PageMaker \n",
    "including versions of Lorem Ipsum.\n",
    "\"\"\"\n",
    "subs = {\"adj\":\"interestingly\",\n",
    "        \"noun\": \"human\",\n",
    "        \"preposition\": \"at\"}\n",
    "print(multiline.format_map(Default(subs)))\n",
    "print(multiline.format_map(Default2(subs)))"
   ]
  },
  {
   "cell_type": "code",
   "execution_count": null,
   "metadata": {},
   "outputs": [],
   "source": []
  }
 ],
 "metadata": {
  "kernelspec": {
   "display_name": "Python 3",
   "language": "python",
   "name": "python3"
  },
  "language_info": {
   "codemirror_mode": {
    "name": "ipython",
    "version": 3
   },
   "file_extension": ".py",
   "mimetype": "text/x-python",
   "name": "python",
   "nbconvert_exporter": "python",
   "pygments_lexer": "ipython3",
   "version": "3.10.5"
  },
  "orig_nbformat": 4,
  "vscode": {
   "interpreter": {
    "hash": "369f2c481f4da34e4445cda3fffd2e751bd1c4d706f27375911949ba6bb62e1c"
   }
  }
 },
 "nbformat": 4,
 "nbformat_minor": 2
}
